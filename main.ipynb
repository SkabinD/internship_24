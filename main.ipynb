{
 "cells": [
  {
   "cell_type": "markdown",
   "metadata": {},
   "source": [
    "# Подготовка"
   ]
  },
  {
   "cell_type": "markdown",
   "metadata": {},
   "source": [
    "## Импорты"
   ]
  },
  {
   "cell_type": "code",
   "execution_count": 1,
   "metadata": {},
   "outputs": [
    {
     "name": "stderr",
     "output_type": "stream",
     "text": [
      "z:\\projects\\code\\vk\\contest_task_2\\venv\\Lib\\site-packages\\tqdm\\auto.py:21: TqdmWarning: IProgress not found. Please update jupyter and ipywidgets. See https://ipywidgets.readthedocs.io/en/stable/user_install.html\n",
      "  from .autonotebook import tqdm as notebook_tqdm\n"
     ]
    }
   ],
   "source": [
    "import numpy as np\n",
    "import pandas as pd\n",
    "\n",
    "from catboost import CatBoostRanker, Pool, cv\n",
    "from sklearn.metrics import ndcg_score\n",
    "from sklearn.model_selection import GroupShuffleSplit\n",
    "\n",
    "import optuna\n",
    "from IPython.display import clear_output"
   ]
  },
  {
   "cell_type": "markdown",
   "metadata": {},
   "source": [
    "## Доп функции"
   ]
  },
  {
   "cell_type": "code",
   "execution_count": null,
   "metadata": {},
   "outputs": [],
   "source": [
    "def get_train_test_split(X_data, y_data, queries_data, test_size=0.1, val_size=0.2, random_state=1337):\n",
    "    \"\"\"Function for splitting data in train val and test subsamples according to their groups\"\"\"\n",
    "    gss = GroupShuffleSplit(n_splits=2, test_size=test_size, random_state=random_state)\n",
    "    \n",
    "    fold, _ = gss.split(X_data, y_data, queries_data)\n",
    "    train_val_index, test_index = fold[0], fold[1]\n",
    "    \n",
    "    gss = GroupShuffleSplit(n_splits=2, test_size=val_size, random_state=random_state)\n",
    "\n",
    "    fold, _ = gss.split(X_data.iloc[train_val_index], y_data[train_val_index], queries_data[train_val_index])\n",
    "    train_index, val_index = fold[0], fold[1]\n",
    "    \n",
    "    X_train, y_train, queries_train = X_data.iloc[train_val_index].iloc[train_index], y_data[train_val_index][train_index], queries_data[train_val_index][train_index]\n",
    "    X_val, y_val, queries_val = X_data.iloc[train_val_index].iloc[val_index], y_data[train_val_index][val_index], queries_data[train_val_index][val_index]\n",
    "    X_test, y_test, queries_test = X_data.iloc[test_index], y_data[test_index], queries_data[test_index]\n",
    "    \n",
    "    data = {\"train\" : (X_train, y_train, queries_train),\n",
    "            \"val\" : (X_val, y_val, queries_val),\n",
    "            \"test\" : (X_test, y_test, queries_test)}\n",
    "    \n",
    "    return data"
   ]
  },
  {
   "cell_type": "markdown",
   "metadata": {},
   "source": [
    "## Данные"
   ]
  },
  {
   "cell_type": "code",
   "execution_count": 2,
   "metadata": {},
   "outputs": [
    {
     "name": "stdout",
     "output_type": "stream",
     "text": [
      "<class 'pandas.core.frame.DataFrame'>\n",
      "RangeIndex: 235258 entries, 0 to 235257\n",
      "Columns: 146 entries, rank to feature_143\n",
      "dtypes: float64(140), int64(6)\n",
      "memory usage: 262.1 MB\n"
     ]
    }
   ],
   "source": [
    "df = pd.read_csv(\"intern_task.csv\")\n",
    "df.info()"
   ]
  },
  {
   "cell_type": "code",
   "execution_count": 3,
   "metadata": {},
   "outputs": [
    {
     "data": {
      "text/html": [
       "<div>\n",
       "<style scoped>\n",
       "    .dataframe tbody tr th:only-of-type {\n",
       "        vertical-align: middle;\n",
       "    }\n",
       "\n",
       "    .dataframe tbody tr th {\n",
       "        vertical-align: top;\n",
       "    }\n",
       "\n",
       "    .dataframe thead th {\n",
       "        text-align: right;\n",
       "    }\n",
       "</style>\n",
       "<table border=\"1\" class=\"dataframe\">\n",
       "  <thead>\n",
       "    <tr style=\"text-align: right;\">\n",
       "      <th></th>\n",
       "      <th>rank</th>\n",
       "      <th>query_id</th>\n",
       "      <th>feature_0</th>\n",
       "      <th>feature_1</th>\n",
       "      <th>feature_2</th>\n",
       "      <th>feature_3</th>\n",
       "      <th>feature_4</th>\n",
       "      <th>feature_5</th>\n",
       "      <th>feature_6</th>\n",
       "      <th>feature_7</th>\n",
       "      <th>...</th>\n",
       "      <th>feature_134</th>\n",
       "      <th>feature_135</th>\n",
       "      <th>feature_136</th>\n",
       "      <th>feature_137</th>\n",
       "      <th>feature_138</th>\n",
       "      <th>feature_139</th>\n",
       "      <th>feature_140</th>\n",
       "      <th>feature_141</th>\n",
       "      <th>feature_142</th>\n",
       "      <th>feature_143</th>\n",
       "    </tr>\n",
       "  </thead>\n",
       "  <tbody>\n",
       "    <tr>\n",
       "      <th>0</th>\n",
       "      <td>0</td>\n",
       "      <td>10</td>\n",
       "      <td>1.0</td>\n",
       "      <td>0.0</td>\n",
       "      <td>1.0</td>\n",
       "      <td>3.0</td>\n",
       "      <td>3.0</td>\n",
       "      <td>0.333333</td>\n",
       "      <td>0.0</td>\n",
       "      <td>0.333333</td>\n",
       "      <td>...</td>\n",
       "      <td>0.0</td>\n",
       "      <td>0.000000</td>\n",
       "      <td>0.454545</td>\n",
       "      <td>0.890238</td>\n",
       "      <td>8.655534</td>\n",
       "      <td>1.000000</td>\n",
       "      <td>0.077778</td>\n",
       "      <td>0.002222</td>\n",
       "      <td>1.0</td>\n",
       "      <td>0.333333</td>\n",
       "    </tr>\n",
       "    <tr>\n",
       "      <th>1</th>\n",
       "      <td>1</td>\n",
       "      <td>10</td>\n",
       "      <td>3.0</td>\n",
       "      <td>0.0</td>\n",
       "      <td>3.0</td>\n",
       "      <td>0.0</td>\n",
       "      <td>3.0</td>\n",
       "      <td>1.000000</td>\n",
       "      <td>0.0</td>\n",
       "      <td>1.000000</td>\n",
       "      <td>...</td>\n",
       "      <td>0.0</td>\n",
       "      <td>0.000000</td>\n",
       "      <td>0.000000</td>\n",
       "      <td>0.773976</td>\n",
       "      <td>23.130514</td>\n",
       "      <td>0.000000</td>\n",
       "      <td>0.027826</td>\n",
       "      <td>0.000430</td>\n",
       "      <td>44.0</td>\n",
       "      <td>14.666667</td>\n",
       "    </tr>\n",
       "    <tr>\n",
       "      <th>2</th>\n",
       "      <td>0</td>\n",
       "      <td>10</td>\n",
       "      <td>3.0</td>\n",
       "      <td>0.0</td>\n",
       "      <td>2.0</td>\n",
       "      <td>0.0</td>\n",
       "      <td>3.0</td>\n",
       "      <td>1.000000</td>\n",
       "      <td>0.0</td>\n",
       "      <td>0.666667</td>\n",
       "      <td>...</td>\n",
       "      <td>0.0</td>\n",
       "      <td>0.000000</td>\n",
       "      <td>0.000000</td>\n",
       "      <td>0.918308</td>\n",
       "      <td>13.351339</td>\n",
       "      <td>0.000000</td>\n",
       "      <td>0.014925</td>\n",
       "      <td>0.000104</td>\n",
       "      <td>22.0</td>\n",
       "      <td>7.333333</td>\n",
       "    </tr>\n",
       "    <tr>\n",
       "      <th>3</th>\n",
       "      <td>1</td>\n",
       "      <td>10</td>\n",
       "      <td>3.0</td>\n",
       "      <td>0.0</td>\n",
       "      <td>3.0</td>\n",
       "      <td>0.0</td>\n",
       "      <td>3.0</td>\n",
       "      <td>1.000000</td>\n",
       "      <td>0.0</td>\n",
       "      <td>1.000000</td>\n",
       "      <td>...</td>\n",
       "      <td>0.0</td>\n",
       "      <td>0.000000</td>\n",
       "      <td>0.000000</td>\n",
       "      <td>0.975355</td>\n",
       "      <td>18.240926</td>\n",
       "      <td>0.000000</td>\n",
       "      <td>0.053140</td>\n",
       "      <td>0.000255</td>\n",
       "      <td>8.0</td>\n",
       "      <td>2.666667</td>\n",
       "    </tr>\n",
       "    <tr>\n",
       "      <th>4</th>\n",
       "      <td>2</td>\n",
       "      <td>10</td>\n",
       "      <td>3.0</td>\n",
       "      <td>0.0</td>\n",
       "      <td>3.0</td>\n",
       "      <td>1.0</td>\n",
       "      <td>3.0</td>\n",
       "      <td>1.000000</td>\n",
       "      <td>0.0</td>\n",
       "      <td>1.000000</td>\n",
       "      <td>...</td>\n",
       "      <td>273.0</td>\n",
       "      <td>79.670665</td>\n",
       "      <td>0.200000</td>\n",
       "      <td>0.990119</td>\n",
       "      <td>31.786048</td>\n",
       "      <td>0.333333</td>\n",
       "      <td>0.046512</td>\n",
       "      <td>0.000307</td>\n",
       "      <td>24.0</td>\n",
       "      <td>8.000000</td>\n",
       "    </tr>\n",
       "  </tbody>\n",
       "</table>\n",
       "<p>5 rows × 146 columns</p>\n",
       "</div>"
      ],
      "text/plain": [
       "   rank  query_id  feature_0  feature_1  feature_2  feature_3  feature_4  \\\n",
       "0     0        10        1.0        0.0        1.0        3.0        3.0   \n",
       "1     1        10        3.0        0.0        3.0        0.0        3.0   \n",
       "2     0        10        3.0        0.0        2.0        0.0        3.0   \n",
       "3     1        10        3.0        0.0        3.0        0.0        3.0   \n",
       "4     2        10        3.0        0.0        3.0        1.0        3.0   \n",
       "\n",
       "   feature_5  feature_6  feature_7  ...  feature_134  feature_135  \\\n",
       "0   0.333333        0.0   0.333333  ...          0.0     0.000000   \n",
       "1   1.000000        0.0   1.000000  ...          0.0     0.000000   \n",
       "2   1.000000        0.0   0.666667  ...          0.0     0.000000   \n",
       "3   1.000000        0.0   1.000000  ...          0.0     0.000000   \n",
       "4   1.000000        0.0   1.000000  ...        273.0    79.670665   \n",
       "\n",
       "   feature_136  feature_137  feature_138  feature_139  feature_140  \\\n",
       "0     0.454545     0.890238     8.655534     1.000000     0.077778   \n",
       "1     0.000000     0.773976    23.130514     0.000000     0.027826   \n",
       "2     0.000000     0.918308    13.351339     0.000000     0.014925   \n",
       "3     0.000000     0.975355    18.240926     0.000000     0.053140   \n",
       "4     0.200000     0.990119    31.786048     0.333333     0.046512   \n",
       "\n",
       "   feature_141  feature_142  feature_143  \n",
       "0     0.002222          1.0     0.333333  \n",
       "1     0.000430         44.0    14.666667  \n",
       "2     0.000104         22.0     7.333333  \n",
       "3     0.000255          8.0     2.666667  \n",
       "4     0.000307         24.0     8.000000  \n",
       "\n",
       "[5 rows x 146 columns]"
      ]
     },
     "execution_count": 3,
     "metadata": {},
     "output_type": "execute_result"
    }
   ],
   "source": [
    "df.head()"
   ]
  },
  {
   "cell_type": "code",
   "execution_count": 4,
   "metadata": {},
   "outputs": [
    {
     "name": "stdout",
     "output_type": "stream",
     "text": [
      "['feature_64', 'feature_65', 'feature_72', 'feature_100']\n"
     ]
    }
   ],
   "source": [
    "# Дроп фичей, содержащих одно уникальное значение\n",
    "\n",
    "const_columns = []\n",
    "for col in df.columns[2:]:\n",
    "    if df[col].nunique() < 2:\n",
    "        const_columns.append(col)\n",
    "print(const_columns)"
   ]
  },
  {
   "cell_type": "code",
   "execution_count": 5,
   "metadata": {},
   "outputs": [
    {
     "name": "stdout",
     "output_type": "stream",
     "text": [
      "(235258, 146)\n",
      "[5920, 8665, 9265, 10525, 11410, 14350, 20560, 22780, 23215, 25120, 25885, 26170, 26395, 26545, 28285]\n",
      "(235214, 146)\n"
     ]
    }
   ],
   "source": [
    "# Дроп коротких сессий (меньше 5 записей)\n",
    "\n",
    "print(df.shape)\n",
    "\n",
    "small_query = []\n",
    "for q in df[\"query_id\"].unique():\n",
    "    if sum(df[\"query_id\"] == q) < 5:\n",
    "        small_query.append(q)\n",
    "        df = df[df[\"query_id\"] != q]\n",
    "print(small_query)\n",
    "print(df.shape)"
   ]
  },
  {
   "cell_type": "code",
   "execution_count": 32,
   "metadata": {},
   "outputs": [
    {
     "data": {
      "text/plain": [
       "1985"
      ]
     },
     "execution_count": 32,
     "metadata": {},
     "output_type": "execute_result"
    }
   ],
   "source": [
    "# Подготовка выборок \n",
    "\n",
    "X_data = df.drop([\"rank\", \"query_id\"]+const_columns, axis=1)\n",
    "y_data = df[\"rank\"].values\n",
    "queries_data = df[\"query_id\"].values\n",
    "\n",
    "# Категориальные признаки — те, которые имеют целочисленный тип данных\n",
    "cat_features = X_data.columns[X_data.dtypes==np.int64]\n",
    "\n",
    "num_queries = np.unique(queries_data).shape[0]\n",
    "num_queries"
   ]
  },
  {
   "cell_type": "code",
   "execution_count": 9,
   "metadata": {},
   "outputs": [
    {
     "name": "stdout",
     "output_type": "stream",
     "text": [
      "(170233, 140) (42073, 140) (22908, 140)\n",
      "(235214, 146)\n"
     ]
    }
   ],
   "source": [
    "# Разбиение на тренировочную, валидационную и тестовую выборки\n",
    "\n",
    "data = get_train_test_split(X_data, y_data, queries_data)\n",
    "\n",
    "train_pool = Pool(\n",
    "    data=data[\"train\"][0],\n",
    "    label=data[\"train\"][1],\n",
    "    group_id=data[\"train\"][2],\n",
    "    cat_features=list(cat_features.values)\n",
    ")\n",
    "\n",
    "val_pool = Pool(\n",
    "    data=data[\"val\"][0],\n",
    "    label=data[\"val\"][1],\n",
    "    group_id=data[\"val\"][2],\n",
    "    cat_features=list(cat_features.values)\n",
    ")\n",
    "\n",
    "test_pool = Pool(\n",
    "    data=data[\"test\"][0],\n",
    "    label=data[\"test\"][1],\n",
    "    group_id=data[\"test\"][2],\n",
    "    cat_features=list(cat_features.values)\n",
    ")\n",
    "\n",
    "print(train_pool.shape, val_pool.shape, test_pool.shape)\n",
    "print(df.shape)\n",
    "\n",
    "# Весь датасет, который будет использоваться в кросс-валидации при оптимизации гиперпараметров\n",
    "full_pool = Pool(data=X_data, \n",
    "                 label=y_data,\n",
    "                 group_id=queries_data,\n",
    "                 cat_features=list(cat_features.values))"
   ]
  },
  {
   "cell_type": "markdown",
   "metadata": {},
   "source": [
    "# Основная часть работы"
   ]
  },
  {
   "cell_type": "markdown",
   "metadata": {},
   "source": [
    "## Оптимизация"
   ]
  },
  {
   "cell_type": "code",
   "execution_count": null,
   "metadata": {},
   "outputs": [],
   "source": [
    "# Шаблон оптимизационной функции, использованной при поиске гиперпараметров финальной модели\n",
    "# Гиперпараметры оптимизируются на основе средних значений метрики NDCG@5 на 4-ех фолдах\n",
    "\n",
    "def objective(trial):\n",
    "    params = {\n",
    "        \"loss_function\" : trial.suggest_categorical(\n",
    "            \"loss_function\", [\"YetiRank\", \"PairLogitPairwise\", \"QueryRMSE\",]\n",
    "        ),\n",
    "        \"n_estimators\": 100,\n",
    "        \"learning_rate\": trial.suggest_float(\"learning_rate\", 1e-3, 0.1, log=True),\n",
    "        \"custom_metric\" : [\"NDCG:top=5\"],\n",
    "        \"verbose\" : 50,\n",
    "        \"random_seed\" : 1337,\n",
    "        \"task_type\" : \"GPU\",\n",
    "        \"depth\" : trial.suggest_int(\"depth\", 1, 8),\n",
    "        \"bootstrap_type\": trial.suggest_categorical(\n",
    "            \"bootstrap_type\", [\"Bayesian\", \"Bernoulli\",]\n",
    "        ),\n",
    "        \"random_strength\": trial.suggest_categorical(\"random_strength\", [0.01, 0.05, 0.1, 0.5, 1.0, 1.5, 2.0, 2.5, 3.0]),\n",
    "        \"min_data_in_leaf\": trial.suggest_int(\"min_data_in_leaf\", 1, 100),      \n",
    "    }\n",
    "    \n",
    "    if params[\"bootstrap_type\"] == \"Bayesian\":\n",
    "        params[\"bagging_temperature\"] = trial.suggest_float(\"bagging_temperature\", 0, 10)\n",
    "    elif params[\"bootstrap_type\"] == \"Bernoulli\":\n",
    "        params[\"subsample\"] = trial.suggest_float(\"subsample\", 0.1, 1)\n",
    "    \n",
    "    display(params)\n",
    "    \n",
    "    cv_data = cv(\n",
    "        params=params,\n",
    "        pool=full_pool,\n",
    "        fold_count=4,\n",
    "        shuffle=True,\n",
    "        partition_random_seed=1337,\n",
    "        verbose=500,\n",
    "    ) \n",
    "    \n",
    "    clear_output()\n",
    "    \n",
    "    score = max(cv_data[\"test-NDCG:top=5;type=Base-mean\"])\n",
    "\n",
    "    with open(\"tried_params.txt\", \"a\") as f:\n",
    "        f.write(\"\\n\"+str(params)+\"\\n\"+str(score)+\".......\")\n",
    "\n",
    "    return score\n",
    "    \n",
    "\n",
    "study = optuna.create_study(direction=\"maximize\")\n",
    "study.optimize(objective, n_trials=100, timeout=3600*0.8)\n",
    "\n",
    "print(\"Number of finished trials: {}\".format(len(study.trials)))\n",
    "\n",
    "print(\"Best trial:\")\n",
    "trial = study.best_trial\n",
    "print(\"  Params: \")\n",
    "for key, value in trial.params.items():\n",
    "    print(\"    {}: {}\".format(key, value))"
   ]
  },
  {
   "cell_type": "markdown",
   "metadata": {},
   "source": [
    "## Обучение финальной модели"
   ]
  },
  {
   "cell_type": "code",
   "execution_count": 26,
   "metadata": {},
   "outputs": [
    {
     "name": "stderr",
     "output_type": "stream",
     "text": [
      "Metric NDCG:type=Base is not implemented on GPU. Will use CPU for metric computation, this could significantly affect learning time\n",
      "Metric NDCG:type=Base is not implemented on GPU. Will use CPU for metric computation, this could significantly affect learning time\n",
      "Metric NDCG:type=Base is not implemented on GPU. Will use CPU for metric computation, this could significantly affect learning time\n",
      "Metric NDCG:top=5;type=Base is not implemented on GPU. Will use CPU for metric computation, this could significantly affect learning time\n",
      "Metric MAP:top=5 is not implemented on GPU. Will use CPU for metric computation, this could significantly affect learning time\n"
     ]
    },
    {
     "name": "stdout",
     "output_type": "stream",
     "text": [
      "0:\ttest: 0.7042865\tbest: 0.7042865 (0)\ttotal: 25.6ms\tremaining: 1m 16s\n",
      "100:\ttest: 0.7720035\tbest: 0.7720035 (100)\ttotal: 1.77s\tremaining: 50.9s\n",
      "200:\ttest: 0.7795233\tbest: 0.7796309 (199)\ttotal: 3.51s\tremaining: 48.9s\n",
      "300:\ttest: 0.7828469\tbest: 0.7830154 (293)\ttotal: 5.22s\tremaining: 46.8s\n",
      "400:\ttest: 0.7845281\tbest: 0.7847231 (397)\ttotal: 6.93s\tremaining: 45s\n",
      "500:\ttest: 0.7859041\tbest: 0.7859682 (487)\ttotal: 8.67s\tremaining: 43.3s\n",
      "600:\ttest: 0.7876305\tbest: 0.7876421 (586)\ttotal: 10.4s\tremaining: 41.5s\n",
      "700:\ttest: 0.7879774\tbest: 0.7886002 (646)\ttotal: 12.2s\tremaining: 40s\n",
      "800:\ttest: 0.7902057\tbest: 0.7902057 (800)\ttotal: 13.9s\tremaining: 38.2s\n",
      "900:\ttest: 0.7912365\tbest: 0.7912370 (895)\ttotal: 15.7s\tremaining: 36.5s\n",
      "1000:\ttest: 0.7914939\tbest: 0.7916668 (961)\ttotal: 17.4s\tremaining: 34.7s\n",
      "1100:\ttest: 0.7924541\tbest: 0.7926448 (1077)\ttotal: 19s\tremaining: 32.8s\n",
      "1200:\ttest: 0.7925361\tbest: 0.7929141 (1169)\ttotal: 20.7s\tremaining: 31s\n",
      "1300:\ttest: 0.7929869\tbest: 0.7931028 (1289)\ttotal: 22.3s\tremaining: 29.1s\n",
      "1400:\ttest: 0.7927908\tbest: 0.7931028 (1289)\ttotal: 24s\tremaining: 27.3s\n",
      "1500:\ttest: 0.7928013\tbest: 0.7931145 (1463)\ttotal: 25.6s\tremaining: 25.6s\n",
      "1600:\ttest: 0.7931962\tbest: 0.7934364 (1536)\ttotal: 27.3s\tremaining: 23.8s\n",
      "1700:\ttest: 0.7936985\tbest: 0.7937154 (1699)\ttotal: 28.9s\tremaining: 22.1s\n",
      "1800:\ttest: 0.7937239\tbest: 0.7937325 (1799)\ttotal: 30.6s\tremaining: 20.4s\n",
      "1900:\ttest: 0.7940922\tbest: 0.7940922 (1900)\ttotal: 32.2s\tremaining: 18.6s\n",
      "2000:\ttest: 0.7942297\tbest: 0.7942830 (1961)\ttotal: 33.9s\tremaining: 16.9s\n",
      "2100:\ttest: 0.7941919\tbest: 0.7942860 (2099)\ttotal: 35.5s\tremaining: 15.2s\n",
      "2200:\ttest: 0.7944923\tbest: 0.7945872 (2183)\ttotal: 37.2s\tremaining: 13.5s\n",
      "2300:\ttest: 0.7950413\tbest: 0.7950465 (2294)\ttotal: 38.8s\tremaining: 11.8s\n",
      "2400:\ttest: 0.7949897\tbest: 0.7950848 (2326)\ttotal: 40.5s\tremaining: 10.1s\n",
      "2500:\ttest: 0.7950424\tbest: 0.7950848 (2326)\ttotal: 42.1s\tremaining: 8.4s\n",
      "2600:\ttest: 0.7951964\tbest: 0.7952843 (2595)\ttotal: 43.8s\tremaining: 6.71s\n",
      "2700:\ttest: 0.7952151\tbest: 0.7952865 (2617)\ttotal: 45.4s\tremaining: 5.03s\n",
      "2800:\ttest: 0.7956436\tbest: 0.7956436 (2800)\ttotal: 47s\tremaining: 3.34s\n",
      "2900:\ttest: 0.7957704\tbest: 0.7958025 (2899)\ttotal: 48.7s\tremaining: 1.66s\n",
      "2999:\ttest: 0.7954729\tbest: 0.7959795 (2967)\ttotal: 50.3s\tremaining: 0us\n",
      "bestTest = 0.7959795363\n",
      "bestIteration = 2967\n",
      "Shrink model to first 2968 iterations.\n"
     ]
    },
    {
     "data": {
      "text/plain": [
       "<catboost.core.CatBoostRanker at 0x16f4dd41bd0>"
      ]
     },
     "execution_count": 26,
     "metadata": {},
     "output_type": "execute_result"
    }
   ],
   "source": [
    "# Параметры полученные в результате оптимизации \n",
    "params = {\"loss_function\": \"YetiRank\",\n",
    "          \"iterations\" : 3000,\n",
    "          \"custom_metric\" : [\"NDCG\", \"NDCG:top=5\", 'MAP:top=5'],\n",
    "          \"metric_period\" : 20,\n",
    "          \"verbose\" : 100,\n",
    "          \"random_seed\" : 1337,\n",
    "          \"early_stopping_rounds\" : 200,\n",
    "          \"use_best_model\" : True,\n",
    "          \"task_type\" : \"GPU\",\n",
    "          \"depth\": 8,\n",
    "          \"bootstrap_type\": \"Bernoulli\",\n",
    "          \"subsample\": 0.856154694711653,\n",
    "          \"random_strength\": 0.1,\n",
    "          \"min_data_in_leaf\": 23,\n",
    "          }\n",
    "\n",
    "model_new = CatBoostRanker(**params)\n",
    "model_new.fit(train_pool, eval_set=val_pool)"
   ]
  },
  {
   "cell_type": "markdown",
   "metadata": {},
   "source": [
    "# Финальный скор"
   ]
  },
  {
   "cell_type": "code",
   "execution_count": 27,
   "metadata": {},
   "outputs": [
    {
     "data": {
      "text/plain": [
       "0.6078357575832827"
      ]
     },
     "execution_count": 27,
     "metadata": {},
     "output_type": "execute_result"
    }
   ],
   "source": [
    "model_new.score(test_pool, top=5)"
   ]
  },
  {
   "cell_type": "markdown",
   "metadata": {},
   "source": [
    "**nDCG@5** = 0.6078357575832827\n",
    "\n",
    "Метрика считается с помощью встроенного метода CatBoost https://catboost.ai/en/docs/concepts/python-reference_catboostranker_score"
   ]
  },
  {
   "cell_type": "code",
   "execution_count": 35,
   "metadata": {},
   "outputs": [
    {
     "name": "stdout",
     "output_type": "stream",
     "text": [
      "NDCG:type=Base = 0.80764914308891\n",
      "MAP = 0.6404142577506393\n",
      "AUC:type=Ranking = 0.6936036598046028\n"
     ]
    }
   ],
   "source": [
    "scores = model_new.eval_metrics(data=test_pool, metrics=[\"NDCG\", 'MAP', \"AUC:type=Ranking\"])\n",
    "\n",
    "for score in scores:\n",
    "    print(f\"{score} = {np.mean(scores[score])}\")"
   ]
  }
 ],
 "metadata": {
  "kernelspec": {
   "display_name": "Python 3",
   "language": "python",
   "name": "python3"
  },
  "language_info": {
   "codemirror_mode": {
    "name": "ipython",
    "version": 3
   },
   "file_extension": ".py",
   "mimetype": "text/x-python",
   "name": "python",
   "nbconvert_exporter": "python",
   "pygments_lexer": "ipython3",
   "version": "3.11.6"
  }
 },
 "nbformat": 4,
 "nbformat_minor": 2
}
